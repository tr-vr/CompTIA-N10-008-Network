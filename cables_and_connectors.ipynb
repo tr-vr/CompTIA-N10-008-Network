{
 "cells": [
  {
   "cell_type": "markdown",
   "metadata": {},
   "source": [
    "1.3 Copper Cabling\n",
    "> There are different types copper cable categories\n",
    "> coaxial cables\n",
    "> Twin axial cables \n",
    "\n",
    "There is an international cabling standard (ISO / IEC 11801 Cabling standards)\n",
    "\n",
    "T568A or B standards.\n"
   ]
  },
  {
   "cell_type": "markdown",
   "metadata": {},
   "source": [
    "Optical Fiber\n",
    "> Transmission by light using the visible spectrum instead of electrical signals\n",
    "> This means there are no Radio Frequencies\n",
    "    - which will make it very difficult to monitor or tap\n",
    "> Because you are communicating with light you are able to communicate over very long distances.\n",
    "> immune to radio interference since it doesn't use RF. Can be used as an alternative when copper cannot be used.\n",
    "\n",
    "Optic fibre is made up of:\n",
    "> A highly reflective Index (Core)\n",
    "> Low reflective Index (Cladding): This means that if any light leaks out from the core, it wont be reflected back into the core\n",
    "> Outside "
   ]
  }
 ],
 "metadata": {
  "language_info": {
   "name": "python"
  }
 },
 "nbformat": 4,
 "nbformat_minor": 2
}
