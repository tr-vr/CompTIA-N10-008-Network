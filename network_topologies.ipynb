{
 "cells": [
  {
   "cell_type": "markdown",
   "metadata": {},
   "source": [
    "1.2 Network Topologies\n",
    "\n",
    "Useful in planning a new network\n",
    "- physical layout of a building or campus\n",
    "\n",
    "Assits in understanding signal flow\n",
    "- troubleshooting problems\n",
    "\n",
    "Popular Topologies\n",
    "\n",
    "Star\n",
    "- Hub and spoke\n",
    "- Used in most  \n",
    "\n",
    "Peer to peer\n",
    "- All devices are both clients and servers (everyone talks to everyone)\n",
    "- advantages of p2p is easy to deploy and no need for servers (low costs)\n",
    "- disadvantages of p2p is that it is difficult to administer and secure"
   ]
  },
  {
   "cell_type": "markdown",
   "metadata": {},
   "source": [
    "Client-Server \n",
    "- Central server\n",
    "    client talks to the server \n",
    "    and there is no client to client communication.\n",
    "\n",
    "- good performance, and easy administration as you can configure at the server."
   ]
  },
  {
   "cell_type": "markdown",
   "metadata": {},
   "source": [
    "LAN (Local Area Network)\n",
    "\n",
    "- Local is relative \n",
    "- usually inside your own home \n",
    "\n",
    "WLAN (Wireless LAN)\n",
    "- 802.11 technologies\n",
    "    provides us with mobility to be able move around and we are able to expand\n",
    "    the coverage with additional access points. \n",
    "    - e.g large campus (universities, hotels)\n",
    "    - or downtown areas\n",
    "\n",
    "CAN (Campus Area Network)\n",
    "- Limited Geographical Area\n",
    "A group of buildings \n",
    "- LAN technologies \n",
    "    fiber connnected, high speed ethernet\n",
    "Benefits of this is that the fiber in ground is yours, so no third party provider.\n",
    "\n",
    "\n",
    "One of the main reasons for adding all these connections, especially on local and \n",
    "wider area networks, is so that users can have access to their data, which is \n",
    "usually stored on a Network Attached Storage (file level access).\n",
    "\n",
    "Requires for the entire file to be over-ridden when changes are made.\n",
    "\n",
    "However if you just want to change one part of the file, you should use a \n",
    "storage area network (SAN).\n",
    "- This looks and feels like a local storage device \n",
    "    - block-level access\n",
    "    - very efficient reading and writing\n",
    "\n",
    "Both a NAS or SAN both require alot of bandwidth. "
   ]
  },
  {
   "cell_type": "markdown",
   "metadata": {},
   "source": [
    "1.2 WAN Termination \n",
    "\n"
   ]
  }
 ],
 "metadata": {
  "language_info": {
   "name": "python"
  }
 },
 "nbformat": 4,
 "nbformat_minor": 2
}
